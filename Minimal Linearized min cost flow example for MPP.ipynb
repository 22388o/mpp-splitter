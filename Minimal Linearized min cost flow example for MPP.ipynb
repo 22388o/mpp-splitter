{
 "cells": [
  {
   "cell_type": "markdown",
   "metadata": {},
   "source": [
    "This is a minimalistic demonstration to transform the [minimum convex cost problem to find the most likely payment flow on the Lightning network](https://arxiv.org/abs/2107.05322) to a [piecewise linearized](https://en.wikipedia.org/wiki/Piecewise_linear_function) problem that can be solved in sub second time on the current channel graph with the help of a [linear min cost flow solver](https://developers.google.com/optimization/reference/graph/min_cost_flow). \n",
    "\n",
    "## Main idea and mathematical background of piece wise linearization\n",
    "Using the ideas of [probabilistic payment delivery](https://arxiv.org/abs/2103.08576) (sometimes known as probabilistic path finding) which has been already [implemented](https://github.com/ElementsProject/lightning/pull/4771) and [tested by c-lightning](https://medium.com/blockstream/c-lightning-v0-10-2-bitcoin-dust-consensus-rule-33e777d58657) as well as [implemented by LDK](https://github.com/lightningdevkit/rust-lightning/pull/1227) (aka rust lightning) we know that the cost function to assign to assign the amount $a$ to a channel of capacity $c$ to use when selecting channels should be \n",
    "\n",
    "$f_c(a) = -\\log\\left(\\frac{c+1-a}{c+1}\\right)$ \n",
    "\n",
    "The linear approximation of this cost function can be found by looking at the first term of the [Taylor Series](https://en.wikipedia.org/wiki/Taylor_series) which turns out to be: \n",
    "\n",
    "$l_c(a) = \\frac{a}{c}$\n",
    "\n",
    "The linearized term is easy to compute and interprete: The cost of using the channel is $0$ if no amount is assigned to it and $1$ if the channel is fully saturated. For all other amounts the cost is just proportional to the fraction of saturation. (We note that this term (even thout we started to approximate the negativ log of the successprobability) is also the failure probabliity of a payment)\n",
    "\n",
    "However just using the linearized version yields two problems in practise: \n",
    "\n",
    "1. the unit cost $\\frac{1}{c}$ is a float and not an integer (**making it hard for many mcf solving algorithms**!)\n",
    "2. The linear nature of the problem (like the linear feerate) tends to fully saturate cheap paths which from a reliablity perspective is a very poor choice as fully saturated channels have the lowest probability to be successfull.\n",
    "\n",
    "To mitigate the first problem with floating values as unit costs we multiply all unit costs with $C_{max}$ as the max capacity that is observed on the channel graph. This will just be a linear scaling of the global cost function and thus not change the solution that minimizes the the cost objective. Of course we still have to round down to integers to make integer unit costs. The function will look like: \n",
    "\n",
    "$L_c(a) = a\\cdot\\lfloor\\frac{C_{max}}{c}\\rfloor$\n",
    "\n",
    "\n",
    "To mitigate the second problem instead of using a single linearized cost function on the entire channel we split the channel in $N$ sements (in our case of equal size to demonstrate a point about runtime. (From an approximation perspective one might want to use the optimal piecewise linear approximation which can also be found via: http://www.iaeng.org/publication/WCECS2008/WCECS2008_pp1191-1194.pdf). So when building the linear approximation of the **uncertainty network** instead of adding one channel with capacity $c$ for each channel we add $N$ channels each of capacity $\\frac{c}{N}$. The unit cost of the i-th piecewise linearized channel (with $i\\in\\{0,...,N-1\\}$) increases via the following formula: \n",
    "\n",
    "$L_{c,i}(a) = L_{c}(a)\\cdot(i+1)$\n",
    "\n",
    "### Motivation of this choice for the cost function on the piecewise linear segments\n",
    "When using a linear min cost flow solver the unit cost can be seen as the derrivative of the cost function. with the formular $L_{c,i}(a) = L_{c}(a)\\cdot(i+1)$ the unit cost is linearly increasing of every segment of the channel. This effectively behaves like piecewise approximation of a quadratic cost function (the derrivative of a quadratic function grows linearly as our adopted piecewise lienar cost function). \n",
    "\n",
    "Of course in practise one would approximate the derrivative of the negative log probabilities for the boundaries of the piecewise segments and probably one would not use segments of equal size.\n",
    "\n",
    "As this code is to demonstrate feasability of runtime (the linearized model of the **uncertainty network** on which we calculates has $N$ times as many edges as the convex problem) this very pragmatic and easy to be implemented choice will be good enough. More work needs to be conducted to make a proper piecewise linear approximation. For example it seems very logical to split of the certain part of the liquidity to have capacity of the certain liquidity and cost 0 (which corresponds to probability 1) but we leave this for future and engineering when implementing into nodes, wallets or LSPs.\n",
    "\n",
    "## Run the script:\n",
    "you will need to have a copy of the channel graph from c-lightning in json format. you can get it via:\n",
    "\n",
    "    $ lightning-cli listchannels > listchannels20211028.json\n",
    "    \n",
    "Also you need to have python and jupyther (for example via anaconda) running and [Google OR-tools installed](https://developers.google.com/optimization/install) via\n",
    "\n",
    "    python -m pip install --upgrade --user ortools\n",
    "\n",
    "\n",
    "## Warning: This code DOES NOT \n",
    "* include optimization for routing fees (in the case of prallel channels it does not even account the paid fees properly)\n",
    "* include the round based algorithm on the uncertainty network which learns conditional probabilities from attempted onions (check our Paper or [this github comment](https://github.com/lightningdevkit/rust-lightning/issues/1170#issuecomment-972396747) to learn how to do this)\n",
    "* include the disection of the flow into paths (which is conceptionally straight forward)\n",
    "* care for HTLCs limits, channel reserves and the like (as all of that is more engineering level)\n",
    "* Use the optimal piecewise linear approximation for the convex cost function (as described here: http://www.iaeng.org/publication/WCECS2008/WCECS2008_pp1191-1194.pdf) \n",
    "* properly handle parallel public channels (actually it just virtually combines the capacity which from a probabilistic perspective makes a hell lot of sense)\n",
    "* include a simluation of the round based algorithm - in particular no assumptions about actual liquidity are made even the channels of the starting node are assumed to have uncertain liquidity (which in reality is always wrong)\n",
    "* make any mainnet test payments\n",
    "* give a guarantee of how close the approximation is to the actual optimal (I am pretty confident when using proper optimal piecewise linearization one can also guarantee the error of the flow of this approximation)\n",
    "\n",
    "## Funding and Acknowledgements\n",
    "This research result is funded through [NTNU](https://www.ntnu.no) and [BitMEX](https://blog.bitmex.com/bitmex-2021-open-source-developer-grants/) as well as generous donations from the Bitcoin community via https://donate.ln.rene-pickhardt.de and via recurring donations at https://www.patreon.com/renepickhardt. If you want to learn why independet research and development for Bitoin and the Lightning Network is important I kindly refere you to: https://ln.rene-pickhardt.de/ of course I will be grateful if you consider my work of importance and decide to support it\n",
    "\n",
    "Special Thanks to Stefan Richter and Carsten Otto for helpful discussions which lead me to the realization that the linearization itself was not the problem of my initial attempts to quickly compute an approximation of the problem but rather the usage of floating point unit costs which seem to be tricky even for linear solvers (yes math still surprises and amazes me)"
   ]
  },
  {
   "cell_type": "code",
   "execution_count": 1,
   "metadata": {},
   "outputs": [],
   "source": [
    "import json\n",
    "import time\n",
    "\n",
    "# using googles linear min cost flow solver as and externaly for convenience.\n",
    "# it seems to use a cost scaling algorithm internally find more information \n",
    "# on their API doc at:  https://developers.google.com/optimization/reference/graph/min_cost_flow\n",
    "from ortools.graph import pywrapgraph\n"
   ]
  },
  {
   "cell_type": "markdown",
   "metadata": {},
   "source": [
    "Next we set a few global variables. Global because our entire code is basically one script with exactly $100$ lines of code (assuming I couted correctly which is hard!) to demonstrate the simplicity and idea of the fast approximation without distraction of boiler plate code."
   ]
  },
  {
   "cell_type": "code",
   "execution_count": 2,
   "metadata": {},
   "outputs": [],
   "source": [
    "#to map node_ids to the range [0,...,#number of nodes] and vice versa\n",
    "node_key_to_id = {}\n",
    "id_to_node_key = {}\n",
    "\n",
    "\n",
    "#the will become the list of arcs that are actually stored in the \n",
    "arcs = []\n",
    "\n",
    "#used to store the capacity of channels\n",
    "channel_graph = {}\n",
    "\n",
    "#used to store fees as a touple (base_fee_msat,ppm)\n",
    "fee_graph = {}"
   ]
  },
  {
   "cell_type": "markdown",
   "metadata": {},
   "source": [
    "We set a few parameters for the experiment. Some of these numbers might heavily impact runtime."
   ]
  },
  {
   "cell_type": "code",
   "execution_count": 3,
   "metadata": {},
   "outputs": [],
   "source": [
    "#quantizing payments sets a lower bound on sent HTLCs and speeds up the computation a bit\n",
    "#set this to 1 if it is to be turned off\n",
    "QUANTIZATION = 10000\n",
    "\n",
    "#renes node\n",
    "SRC = \"03efccf2c383d7bf340da9a3f02e2c23104a0e4fe8ac1a880c8e2dc92fbdacd9df\"\n",
    "#loop node\n",
    "DEST = \"021c97a90a411ff2b10dc2a8e32de2f29d2fa49d41bfbb52bd416e460db0747d0d\"\n",
    "AMT = 50*1000*1000 # 0.5 Bitcoin\n",
    "\n",
    "#number of piecewise linear approximations. \n",
    "#Increasing this directly increases runtime but also improves accuracy\n",
    "N = 5"
   ]
  },
  {
   "cell_type": "markdown",
   "metadata": {},
   "source": [
    "## This is where the magic happens\n",
    "\n",
    "towards the end of the import function the piece wise linear approximation of the cost function takes place and is thus where the magic happens"
   ]
  },
  {
   "cell_type": "code",
   "execution_count": 4,
   "metadata": {},
   "outputs": [
    {
     "name": "stdout",
     "output_type": "stream",
     "text": [
      "Max capacity is:  1400000000\n"
     ]
    }
   ],
   "source": [
    "def import_channels():\n",
    "    \"\"\"\n",
    "    this does all the magic! it imports the channel_graph from c-lightning listchannels command\n",
    "    \n",
    "    it first passes through the channels to find all node ids and max capacity\n",
    "    in a second pass it goes over all channels and adds arcs to the modelled linearized network\n",
    "    for each channel N arcs are being added with increasing unit costs to mimick convex behavior\n",
    "    the piecewise dissection is not optimal nor is the linear approximation of negative log probs exact\n",
    "    however this does not matter for the sake of argument the runtime will not change if the costs\n",
    "    are chosen abit bit more optimally. But the code will blow up thus those simplifications\n",
    "    \"\"\"\n",
    "    #$ lightning-cli listchannels > listchannels20211028.json\n",
    "    f = open(\"listchannels20211028.json\")\n",
    "    channels = json.load(f)[\"channels\"]\n",
    "\n",
    "    # let's first find the max channel capacity and all node_ids \n",
    "    # so that we can build the look up table and use integer unit costs\n",
    "    max_cap = 0\n",
    "    node_ids = set()\n",
    "    for c in channels:\n",
    "        src = c[\"source\"]\n",
    "        dest = c[\"destination\"]\n",
    "        node_ids.add(src)\n",
    "        node_ids.add(dest)\n",
    "        cap = c[\"satoshis\"]\n",
    "        u = 1.0/cap\n",
    "        #FIXME: ignores the later used virtual combination of channels capacities into one large channel\n",
    "        if cap>max_cap:\n",
    "            max_cap = cap\n",
    "    \n",
    "    print(\"Max capacity is: \", max_cap)\n",
    "    \n",
    "    # let's initialize the look up tables for node_ids to integers from [0,...,#number of nodes]\n",
    "    for k, node_id in enumerate(node_ids):\n",
    "        node_key_to_id[node_id]=k\n",
    "        id_to_node_key[k]=node_id\n",
    "\n",
    "    \n",
    "    # initilize global channel_graph and fee_graph data structures \n",
    "    global channel_graph\n",
    "    channel_graph={node_key_to_id[n]:{} for n in node_ids}\n",
    "    global fee_graph\n",
    "    fee_graph={node_key_to_id[n]:{} for n in node_ids}\n",
    "\n",
    "    global arcs\n",
    "    arcs = []\n",
    "    for c in channels:\n",
    "        src = node_key_to_id[c[\"source\"]]\n",
    "        dest = node_key_to_id[c[\"destination\"]]\n",
    "        cap = c[\"satoshis\"]\n",
    "        \n",
    "        # we put channels into channel_Graph data structure\n",
    "        # in case of parallel channels we combine capacity into 1 channel\n",
    "        # from a probabilistic point of view (which we are interested in) this is correct\n",
    "        if dest in channel_graph[src]:\n",
    "            channel_graph[src][dest]+=cap\n",
    "        else:\n",
    "            channel_graph[src][dest]=cap\n",
    "            \n",
    "        # FIXME: this ignores fees of paralel channels. Ok for us as fees are not our main concern here\n",
    "        fee_graph[src][dest] = (c[\"base_fee_millisatoshi\"],c[\"fee_per_millionth\"])\n",
    "\n",
    "        unit_cost = int(max_cap/cap)\n",
    "        #recall: N is the number of piecewise linear approximations of our cost function\n",
    "        #FIXME: use optimal linear approximation e.g.: http://www.iaeng.org/publication/WCECS2008/WCECS2008_pp1191-1194.pdf\n",
    "        # so for each channel we add N arcs with c/N capacity and increasing unit cost to mimick convex nature\n",
    "        for i in range(N):\n",
    "            #arc format is src, dest, capacity, unit_cost\n",
    "            # THIS IS THE IMPORTANT LINE OF CODE WHERE THE MAGIC HAPPENS\n",
    "            arcs.append((src,dest,int(cap/(N*QUANTIZATION)),(i+1)*unit_cost))\n",
    "\n",
    "import_channels()"
   ]
  },
  {
   "cell_type": "markdown",
   "metadata": {},
   "source": [
    "## Invoking the min cost flow solver\n",
    "Now that we have created the model of the linearized uncertainty network we have to plug this into a linear min cost flow solver. The following code is basically and adoption of the example at google operation research API doc which can be found at https://developers.google.com/optimization/flow/mincostflow\n",
    "\n",
    "In order to do so we first need to put all prepared arcs with piecewise linearized integer unit cost to the SimpleMinCostFlow solver."
   ]
  },
  {
   "cell_type": "code",
   "execution_count": 5,
   "metadata": {},
   "outputs": [],
   "source": [
    "# Instantiate a SimpleMinCostFlow solver.\n",
    "min_cost_flow = pywrapgraph.SimpleMinCostFlow()\n",
    "\n",
    "# Add each of the prepared arcs from import_channels().\n",
    "for arc in arcs:\n",
    "    min_cost_flow.AddArcWithCapacityAndUnitCost(arc[0], arc[1], arc[2],\n",
    "                                                arc[3])\n",
    "\n",
    "# Add node supply to 0 for all nodes\n",
    "for i in id_to_node_key.keys():\n",
    "    min_cost_flow.SetNodeSupply(i, 0)\n",
    "    \n",
    "#add amount to sending node\n",
    "min_cost_flow.SetNodeSupply(node_key_to_id[SRC],int(AMT/QUANTIZATION))\n",
    "\n",
    "#add -amount to recipient nods\n",
    "min_cost_flow.SetNodeSupply(node_key_to_id[DEST],-int(AMT/QUANTIZATION))"
   ]
  },
  {
   "cell_type": "markdown",
   "metadata": {},
   "source": [
    "Only put the execution of the solver into run time computation. Building of the uncertainty network can be done while channels are announced on gossip as the arcs do in practise not change - unless one actively maintains the uncertainty network with knowledge from successfull and failed attempts. This is also cheap in practise as it just updates a few edges for each attempted onion."
   ]
  },
  {
   "cell_type": "code",
   "execution_count": 6,
   "metadata": {},
   "outputs": [],
   "source": [
    "start = time.time()\n",
    "status = min_cost_flow.Solve()\n",
    "end = time.time()\n",
    "\n",
    "if status != min_cost_flow.OPTIMAL:\n",
    "    print('There was an issue with the min cost flow input.')\n",
    "    print(f'Status: {status}')\n",
    "    exit(1)"
   ]
  },
  {
   "cell_type": "markdown",
   "metadata": {},
   "source": [
    "In order to have propper probability computation of the flow we need to combine the assigned flow of the piecewise linearized arcs back to a single flow value for each channel from the original channel graph "
   ]
  },
  {
   "cell_type": "code",
   "execution_count": 7,
   "metadata": {},
   "outputs": [],
   "source": [
    "total_flow = {}\n",
    "\n",
    "#first collect all linearized edges which are assigned a non zero flow\n",
    "for i in range(min_cost_flow.NumArcs()):\n",
    "    if min_cost_flow.Flow(i) == 0:\n",
    "        continue\n",
    "    cost = min_cost_flow.Flow(i) * min_cost_flow.UnitCost(i)\n",
    "    src = min_cost_flow.Tail(i)\n",
    "    dest = min_cost_flow.Head(i)\n",
    "    flow = min_cost_flow.Flow(i)*QUANTIZATION\n",
    "\n",
    "    key = str(src)+\":\"+str(dest)\n",
    "    if key in total_flow:\n",
    "        total_flow[key]=(src,dest,total_flow[key][2]+flow)\n",
    "    else:\n",
    "        total_flow[key]=(src,dest,flow)"
   ]
  },
  {
   "cell_type": "markdown",
   "metadata": {},
   "source": [
    "## Let us print the results\n",
    "\n",
    "We first define two helper functions for depicting the results. We want to be able to compute the actual probability of the flow and we want to also be able to know what the flow (if fully successfull) would cost"
   ]
  },
  {
   "cell_type": "code",
   "execution_count": 8,
   "metadata": {},
   "outputs": [],
   "source": [
    "def uniform_probability(a,s,d):\n",
    "    \"\"\"\n",
    "    Computes the uniform probablity of a payment of amout `a` on a channel s-->d\n",
    "    \"\"\"\n",
    "    c = channel_graph[s][d]\n",
    "    return float(c+1-a)/(c+1)\n",
    "\n",
    "def fee_msat(a,s,d):\n",
    "    \"\"\"\n",
    "    Computes the the fees of a payment of amout `a` on a channel s-->d\n",
    "    \"\"\"\n",
    "    base, rate = fee_graph[s][d]\n",
    "    # note we divide ppm by 1000 to be compatible with base_fee wich is measured in msat and not sats\n",
    "    return base + a*rate/1000"
   ]
  },
  {
   "cell_type": "markdown",
   "metadata": {},
   "source": [
    "Finally we print out all the results so one can have a nice look at them"
   ]
  },
  {
   "cell_type": "code",
   "execution_count": 9,
   "metadata": {},
   "outputs": [
    {
     "name": "stdout",
     "output_type": "stream",
     "text": [
      "Planning to deliver 0.50 BTC from 2418(03efccf...) to 2982 (021c97a...) via an approximated optimally reliable payment flow...\n",
      "\n",
      "Runtime of flow computation: 0.78 sec \n",
      "Minimum approximated quadratic cost:  815932 \n",
      "\n",
      " Arc \t\t\t      Flow / Capacity \tprobability \tFee (sats)\n",
      "2418 -> 11548     \t  6700000 / 16777215 \t0.600649\t8957.900000\n",
      "2418 -> 13279     \t  1800000 / 9000000 \t0.800000\t2406.600000\n",
      "2418 -> 9341     \t  1240000 / 6200000 \t0.800000\t1657.880000\n",
      "2418 -> 1972     \t  6700000 / 16777215 \t0.600649\t8957.900000\n",
      "2418 -> 9267     \t  2000000 / 10000000 \t0.800000\t2674.000000\n",
      "5613 -> 9267     \t  3350000 / 2411344242 \t0.998611\t335.100000\n",
      "9267 -> 683     \t  690000 / 6200000000 \t0.999889\t1.690000\n",
      "7434 -> 5613     \t  3350000 / 20000000 \t0.832500\t34.500000\n",
      "1972 -> 683     \t  6700000 / 100000000 \t0.933000\t3350.000000\n",
      "5975 -> 2982     \t  6700000 / 200000000 \t0.966500\t33501.000000\n",
      "2418 -> 7821     \t  3300000 / 15000000 \t0.780000\t4412.100000\n",
      "14825 -> 3976     \t  6700000 / 1000000000 \t0.993300\t2010.000000\n",
      "2418 -> 14825     \t  6700000 / 16777215 \t0.600649\t8957.900000\n",
      "12581 -> 9341     \t  3350000 / 445000000 \t0.992472\t848.550000\n",
      "2418 -> 7224     \t  2000000 / 10000000 \t0.800000\t2674.000000\n",
      "2418 -> 1576     \t  6700000 / 16777215 \t0.600649\t8957.900000\n",
      "2418 -> 10930     \t  3350000 / 16777215 \t0.800324\t4478.950000\n",
      "3164 -> 683     \t  2160000 / 750000000 \t0.997120\t1080.000000\n",
      "7821 -> 1576     \t  3300000 / 30000000 \t0.890000\t1155.000000\n",
      "9341 -> 683     \t  21250000 / 3900000000 \t0.994551\t22.250000\n",
      "12323 -> 683     \t  2000000 / 16775679 \t0.880780\t301.000000\n",
      "2418 -> 12323     \t  2000000 / 10000000 \t0.800000\t2674.000000\n",
      "13279 -> 683     \t  1800000 / 400000000 \t0.995500\t225.001000\n",
      "340 -> 5975     \t  6700000 / 200000000 \t0.966500\t837.501000\n",
      "10930 -> 12581     \t  3350000 / 16777215 \t0.800324\t663.300000\n",
      "9267 -> 9341     \t  4660000 / 1100000000 \t0.995764\t5.660000\n",
      "11012 -> 9341     \t  2000000 / 500000000 \t0.996000\t1000.001000\n",
      "2418 -> 7434     \t  3350000 / 16777215 \t0.800324\t3.781000\n",
      "11548 -> 10189     \t  6700000 / 500000000 \t0.986600\t837.501000\n",
      "1605 -> 11012     \t  2000000 / 500000000 \t0.996000\t401.000000\n",
      "3976 -> 340     \t  6700000 / 500000000 \t0.986600\t16750.000000\n",
      "7522 -> 1605     \t  2000000 / 210000000 \t0.990476\t200.000000\n",
      "2418 -> 13432     \t  2160000 / 10811137 \t0.800206\t2.591000\n",
      "13432 -> 3164     \t  2160000 / 16777215 \t0.871254\t438.336000\n",
      "1576 -> 9341     \t  10000000 / 300000000 \t0.966667\t2500.000000\n",
      "2418 -> 14538     \t  2000000 / 10000000 \t0.800000\t2.431000\n",
      "14538 -> 2982     \t  2000000 / 50000000 \t0.960000\t6001.000000\n",
      "7224 -> 7522     \t  2000000 / 16777215 \t0.880791\t500.000000\n",
      "683 -> 2982     \t  34600000 / 200000000 \t0.827000\t103766.400000\n",
      "10189 -> 2982     \t  6700000 / 100000000 \t0.933000\t15216.700000\n",
      "\n",
      "Probability of entire flow: 0.0032\n",
      "Total fee: 248799.423 sats \n",
      "Effective fee rate: 0.498 %\n",
      "Arcs included in payment flow: 40\n",
      "\n",
      "Don't get confused by a low probability. The first attampt always has high uncertainty. We will learn fast in each consequitive round.\n"
     ]
    }
   ],
   "source": [
    "print(\"Planning to deliver {:4.2f} BTC from {}({}...) to {} ({}...) via an approximated optimally reliable payment flow...\\n\"\n",
    "      .format(AMT/100./1000/1000, node_key_to_id[SRC], SRC[:7],node_key_to_id[DEST], DEST[:7]))\n",
    "\n",
    "print(\"Runtime of flow computation: {:4.2f} sec \".format(end-start))\n",
    "\n",
    "print('Minimum approximated quadratic cost: ', min_cost_flow.OptimalCost(),\"\\n\")\n",
    "#print('')\n",
    "print(' Arc \\t\\t\\t      Flow / Capacity \\tprobability \\tFee (sats)')\n",
    "\n",
    "total_fee = 0\n",
    "probability = 1\n",
    "\n",
    "#print all edges and compute total fees and total probability of the computed flow\n",
    "for k,flow_value in total_flow.items():\n",
    "    src,dest,flow = flow_value\n",
    "    channel_probability=uniform_probability(flow,src,dest)\n",
    "    fee = fee_msat(flow,src,dest)\n",
    "    total_fee += fee/1000\n",
    "    print('%1s -> %1s     \\t  %3s / %3s \\t%3f\\t%3f' %\n",
    "          (src, dest,flow, channel_graph[src][dest], channel_probability,fee / 1000))\n",
    "    probability *= channel_probability\n",
    "print(\"\\nProbability of entire flow: {:6.4f}\".format(probability))\n",
    "print(\"Total fee: {} sats \\nEffective fee rate: {:5.3f} %\".format(total_fee,total_fee*100./AMT))\n",
    "print(\"Arcs included in payment flow:\", len(total_flow))\n",
    "\n",
    "print(\"\\nDon't get confused by a low probability. The first attampt always has high uncertainty. We will learn fast in each consequitive round.\")\n"
   ]
  }
 ],
 "metadata": {
  "kernelspec": {
   "display_name": "Python 3",
   "language": "python",
   "name": "python3"
  },
  "language_info": {
   "codemirror_mode": {
    "name": "ipython",
    "version": 3
   },
   "file_extension": ".py",
   "mimetype": "text/x-python",
   "name": "python",
   "nbconvert_exporter": "python",
   "pygments_lexer": "ipython3",
   "version": "3.8.3"
  }
 },
 "nbformat": 4,
 "nbformat_minor": 4
}
